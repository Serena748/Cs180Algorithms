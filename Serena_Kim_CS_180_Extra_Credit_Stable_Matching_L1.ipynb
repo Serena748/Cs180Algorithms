{
  "nbformat": 4,
  "nbformat_minor": 0,
  "metadata": {
    "colab": {
      "provenance": [],
      "include_colab_link": true
    },
    "kernelspec": {
      "name": "python3",
      "display_name": "Python 3"
    },
    "language_info": {
      "name": "python"
    }
  },
  "cells": [
    {
      "cell_type": "markdown",
      "metadata": {
        "id": "view-in-github",
        "colab_type": "text"
      },
      "source": [
        "<a href=\"https://colab.research.google.com/github/Serena748/Cs180Algorithms/blob/main/Serena_Kim_CS_180_Extra_Credit_Stable_Matching_L1.ipynb\" target=\"_parent\"><img src=\"https://colab.research.google.com/assets/colab-badge.svg\" alt=\"Open In Colab\"/></a>"
      ]
    },
    {
      "cell_type": "code",
      "execution_count": null,
      "metadata": {
        "id": "Q6YqHhsGpro5"
      },
      "outputs": [],
      "source": [
        "#Stable Matching Example Implementation from Lecture\n",
        "# Challenge: How can you use different data structures to make this\n",
        "# implementation more efficient?\n",
        "\n",
        "#hint: improve time complexity, not space\n",
        "\n",
        "# Hospitals preference lists\n",
        "from collections import deque\n",
        "\n",
        "Emory_prefs = [\"Wayne\", \"Val\", \"Yolanda\", \"Zeus\", \"Xavier\"]\n",
        "MGH_prefs = [\"Yolanda\",\"Wayne\", \"Val\", \"Xavier\", \"Zeus\"]\n",
        "Northwestern_prefs = [\"Wayne\", \"Zeus\", \"Xavier\", \"Yolanda\", \"Val\"]\n",
        "UMich_prefs = [\"Val\", \"Yolanda\", \"Xavier\", \"Wayne\", \"Zeus\"]\n",
        "UTSouthwestern_prefs = [\"Wayne\", \"Yolanda\", \"Val\", \"Zeus\", \"Xavier\"]\n",
        "\n",
        "# Key is hospital name and value is preference list\n",
        "Hospital_Pref_map = {\"Emory\":Emory_prefs, \"MGH\":MGH_prefs, \"Northwestern\":Northwestern_prefs, \"UMich\":UMich_prefs, \"UTSouthwestern\":UTSouthwestern_prefs}\n",
        "\n",
        "#Candidate preference lists (as tuples)\n",
        "Val_prefs = (\"UTSouthwestern\",\"Emory\", \"MGH\", \"UMich\", \"Northwestern\")\n",
        "Wayne_prefs = (\"Northwestern\", \"MGH\", \"UMich\", \"Emory\", \"UTSouthwestern\")\n",
        "Xavier_prefs = (\"MGH\", \"Northwestern\", \"UMich\", \"UTSouthwestern\", \"Emory\")\n",
        "Yolanda_prefs = (\"Emory\", \"UTSouthwestern\", \"UMich\", \"Northwestern\", \"MGH\")\n",
        "Zeus_prefs = (\"UMich\", \"MGH\", \"UTSouthwestern\", \"Northwestern\", \"Emory\")\n",
        "\n",
        "# Key is candidate name and value is the preference list\n",
        "Candidates_Pref_map = {\"Val\":Val_prefs, \"Wayne\":Wayne_prefs, \"Xavier\":Xavier_prefs, \"Yolanda\":Yolanda_prefs, \"Zeus\":Zeus_prefs }\n",
        "\n",
        "#Key is the candidate name and value is hospital to which they matched\n",
        "#No candidate is matched yet so it is empty string\n",
        "Matches = {\"Val\":\"\", \"Wayne\":\"\", \"Xavier\":\"\", \"Yolanda\":\"\", \"Zeus\":\"\"}\n",
        "\n",
        "\n",
        "# No hospitals have been matched so all the hospitals are on the free hospital list\n",
        "free_hospitals = [\"Emory\", \"MGH\", \"Northwestern\", \"UMich\", \"UTSouthwestern\"]\n"
      ]
    },
    {
      "cell_type": "code",
      "source": [
        "from collections import deque\n",
        "\n",
        "\n",
        "# General function to implement stable matching\n",
        "def stable_matching(group1_prefs, group2_prefs):\n",
        "    # Convert preference lists to deque to make popping O(1): O(n^2)\n",
        "    group1_prefs_deque = {key: deque(value) for key, value in group1_prefs.items()}\n",
        "\n",
        "    # Create a dictionary to store the index of each group2 member in each group1's preference list to make index lookups O(1): O(n^2)\n",
        "    group2_rank = {}\n",
        "    for group2_member, prefs in group2_prefs.items():\n",
        "        group2_rank[group2_member] = {group1_member: i for i, group1_member in enumerate(prefs)}\n",
        "\n",
        "    # Initialize matches and free group1 members: O(n)\n",
        "    matches = {key: \"\" for key in group2_prefs}\n",
        "    free_group1 = deque(group1_prefs.keys())\n",
        "\n",
        "    #main matching loop with gale shapley algo: O(n^2); each operation in loop is O(1)\n",
        "    while free_group1:\n",
        "        current_member = free_group1.popleft()\n",
        "        current_prefs = group1_prefs_deque[current_member]\n",
        "\n",
        "        # if current hospital has tried to match with all candidates already\n",
        "        # move to next hospital on list\n",
        "        if not current_prefs:\n",
        "            continue\n",
        "\n",
        "        top_choice = current_prefs.popleft()\n",
        "        #Check if the top candidate is matched\n",
        "        current_match = matches[top_choice]\n",
        "\n",
        "        if current_match == \"\":\n",
        "            #student unmatched\n",
        "            matches[top_choice] = current_member\n",
        "            print(top_choice + \" matches with \" + current_member)\n",
        "        else:\n",
        "            rank_current = group2_rank[top_choice][current_member]\n",
        "            rank_match = group2_rank[top_choice][current_match]\n",
        "\n",
        "            if rank_current < rank_match:\n",
        "                # student prefers current offer to matched one\n",
        "                print(top_choice + \" rejects \" + current_match + \" and matches with \" + current_member)\n",
        "                free_group1.append(current_match)\n",
        "                matches[top_choice] = current_member\n",
        "            else:\n",
        "                free_group1.append(current_member)\n",
        "                print(top_choice + \" rejects \" + current_member)\n",
        "\n",
        "    return matches\n",
        "\n",
        "\n",
        "# Perform stable matching\n",
        "matches = stable_matching(Hospital_Pref_map, Candidates_Pref_map)\n",
        "\n",
        "print(\"Final Matches:\")\n",
        "print(matches)\n"
      ],
      "metadata": {
        "colab": {
          "base_uri": "https://localhost:8080/"
        },
        "collapsed": true,
        "id": "DuncXt3R0RlC",
        "outputId": "37d00f08-edde-4df6-a6ec-5ff876afc1f5"
      },
      "execution_count": null,
      "outputs": [
        {
          "output_type": "stream",
          "name": "stdout",
          "text": [
            "Wayne matches with Emory\n",
            "Yolanda matches with MGH\n",
            "Wayne rejects Emory and matches with Northwestern\n",
            "Val matches with UMich\n",
            "Wayne rejects UTSouthwestern\n",
            "Val rejects UMich and matches with Emory\n",
            "Yolanda rejects MGH and matches with UTSouthwestern\n",
            "Yolanda rejects UMich\n",
            "Wayne rejects MGH\n",
            "Xavier matches with UMich\n",
            "Val rejects MGH\n",
            "Xavier rejects UMich and matches with MGH\n",
            "Wayne rejects UMich\n",
            "Zeus matches with UMich\n",
            "Final Matches:\n",
            "{'Val': 'Emory', 'Wayne': 'Northwestern', 'Xavier': 'MGH', 'Yolanda': 'UTSouthwestern', 'Zeus': 'UMich'}\n"
          ]
        }
      ]
    }
  ]
}